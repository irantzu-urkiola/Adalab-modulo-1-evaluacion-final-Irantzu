{
 "cells": [
  {
   "cell_type": "code",
   "execution_count": 3,
   "id": "3eb1ffea",
   "metadata": {},
   "outputs": [],
   "source": [
    "class TiendaOnline:\n",
    "\n",
    "    def __init__(self):\n",
    "\n",
    "        # para almacenar productos en el inventario. Lista de diccionarios. Cada productos es un diccionario\n",
    "        self.inventario = []    # cada dicc = {nombre, precio, cantidad}\n",
    "\n",
    "\n",
    "        # para llevar el registro de clientes. Cada cliente es un diccionario\n",
    "        self.clientes = {}  # cada dicc = {nombre, mail, compras}\n",
    "\n",
    "        # para el registro de las ventas totales. \n",
    "        self.ventas_totales = 0.0  # es float\n",
    "\n",
    "# 1 Agregar producto:\n",
    "\n",
    "    def agregar_producto(self, nombre, precio, cantidad):\n",
    "\n",
    "            # recorremos el inventario\n",
    "            for producto in self.inventario:\n",
    "\n",
    "                # si ya existe, actualizamos la cantidad\n",
    "                if producto[\"nombre\"] == nombre:\n",
    "                    producto[\"cantidad\"] += cantidad\n",
    "                    return\n",
    "                \n",
    "            \n",
    "            # si no existe, creamos un nuevo producto para la lista\n",
    "            nuevo_producto = {\"nombre\": nombre, \"precio\": precio, \"cantidad\": cantidad}\n",
    "            self.inventario.append(nuevo_producto)\n",
    "\n",
    "    \n",
    "# 2 Ver inventario:\n",
    "\n",
    "    def ver_inventario(self):\n",
    "         \n",
    "         # recorremos el inventario \n",
    "         for producto in self.inventario:\n",
    "\n",
    "            # muestra los detalles del productos\n",
    "            print(f\"Nombre: {producto['nombre']}, Precio: {producto['precio']}, Cantidad: {producto['cantidad']}\")\n",
    "\n",
    "\n",
    "# 3 Buscar producto:\n",
    "\n",
    "    # busca un producto en el inventario por el nombre\n",
    "    def buscar_producto(self,nombre):\n",
    "         \n",
    "         # recorremos el inventario\n",
    "         for producto in self.inventario:\n",
    "             \n",
    "             if producto[\"nombre\"] == nombre:\n",
    "\n",
    "                # muestra los detalles del producto\n",
    "                print(f\"Nombre: {producto['nombre']}, Precio: {producto['precio']}, Cantidad: {producto['cantidad']}\")\n",
    "\n",
    "\n",
    "# 4 Actualizar stock:\n",
    "\n",
    "    def actualizar_stock(self, nombre, cantidad):\n",
    "\n",
    "        # recorremos el inventario\n",
    "        for producto in self.inventario:\n",
    "\n",
    "            # si el producto está en el inventario\n",
    "            if producto[\"nombre\"] == nombre:\n",
    "                # añadimos la cantidad indicada al stock existente\n",
    "                producto[\"cantidad\"] += cantidad\n",
    "                return\n",
    "\n",
    "        # si no está en el inventario\n",
    "        print(f\"Este productos no está en el inventario\")\n",
    "\n",
    "\n",
    "# 5 Eliminar producto:\n",
    "\n",
    "    def eliminar_producto(self, nombre):\n",
    "\n",
    "        # recorremos el inventario\n",
    "        for producto in self.inventario:\n",
    "\n",
    "            # si el producto está en el inventario\n",
    "            if producto[\"nombre\"] == nombre:\n",
    "                \n",
    "                # eliminar el diccionario de la lista\n",
    "                self.inventario.remove(producto)\n",
    "                return\n",
    "            \n",
    "        # si no está en el inventario\n",
    "        print(f\"Este productos no está en el inventario\")\n",
    "\n",
    "\n",
    "# 6 Calcular Valor Inventario:\n",
    "\n",
    "    def calcular_valor_inventario(self):\n",
    "        \n",
    "        # defino una variable donde indicar el valor total del inventario\n",
    "        valor_total_inventario = 0\n",
    "\n",
    "        # recorremos el inventario\n",
    "        for producto in self.inventario:\n",
    "            valor_producto = producto[\"precio\"] * producto [\"cantidad\"]\n",
    "            valor_total_inventario += valor_producto\n",
    "\n",
    "        return print(f\"El valor total del inventario es {valor_total_inventario}\")\n",
    "    \n",
    "\n",
    "# 7 Realizar compra:\n",
    "\n",
    "    def realizar_compra(self):\n",
    "\n",
    "        # creamos una varioable para el carrito donde añadiremos el nombre del producto y la cantidad de compra\n",
    "        carrito = {}\n",
    "\n",
    "        coste_compra = 0\n",
    "        # muestramostramos el inventario\n",
    "        self.ver_inventario()\n",
    "        print()\n",
    "\n",
    "        # solicitamos al cliente los productos que desea o si desea finalizar la compra\n",
    "        producto_elegido = input(\"Por favor, indique el nombre del producto que desea comprar o 'salir' si desea salir de la compra\").lower()\n",
    "\n",
    "        # el cliente puede ir agregando productos hasta que indique \"salir\"\n",
    "        while producto_elegido != \"salir\":\n",
    "\n",
    "            for producto in self.inventario:\n",
    "\n",
    "                if producto_elegido == producto[\"nombre\"]:\n",
    "                    # solicitamos la cantidad que desea adquirir de cada producto\n",
    "                    cantidad_elegida = int(input(\"Por favor, indique la cantidad de producto que desea comprar\"))\n",
    "                    \n",
    "                    if cantidad_elegida > producto[\"cantidad\"]:\n",
    "                        print(f\"No hay suficiente stock de {producto_elegido}. Solo quedan {producto['cantidad']} unidades.\")\n",
    "\n",
    "                    else:\n",
    "                        # actualizar el inventario\n",
    "                        producto[\"cantidad\"] -= cantidad_elegida\n",
    "\n",
    "                        # Actualizar el carrito de la compra\n",
    "                        if producto_elegido in carrito:\n",
    "                            carrito[producto_elegido] += cantidad_elegida\n",
    "                        else:\n",
    "                            carrito.update({producto_elegido:cantidad_elegida})\n",
    "\n",
    "                        print(f\"Has añadido: {producto_elegido}. Cantidad: {cantidad_elegida}\")\n",
    "\n",
    "            producto_elegido = input(\"¿Deseas añadir algo más al carrito?\")\n",
    "\n",
    "            if producto_elegido == \"salir\":\n",
    "                break                        \n",
    "\n",
    "        # recorremos el carrito\n",
    "        for producto_en_carrito in carrito:\n",
    "            # recorremos el inventario\n",
    "            for producto in self.inventario:\n",
    "                if producto_en_carrito == producto[\"nombre\"]:\n",
    "                    coste_compra += cantidad_elegida * producto[\"precio\"]\n",
    "\n",
    "        print()\n",
    "        print(f\"Compra finalizada. El coste total de su compra es {coste_compra}\")\n",
    "        return print(f\"La compra realizada ha sido: {carrito}\")\n",
    "\n",
    "\n",
    "# 8 Procesar pago:\n",
    "\n",
    "    def procesar_pago(self):\n",
    "\n",
    "        try:\n",
    "            cantidad_a_pagar = float(input(\"Por favor, introduce el importe total de la compra\"))\n",
    "            cantidad_entregada = float(input(\"Introduce la cantidad entregada por el cliente\"))\n",
    "\n",
    "            # si la cantidad entregada es insuficiente\n",
    "            if cantidad_entregada < cantidad_a_pagar:\n",
    "                print(f\"La cantidad entregada es insufiente\")\n",
    "                return\n",
    "\n",
    "            # si es suficiente se entrega el siguiente cambio\n",
    "            cambio = cantidad_entregada - cantidad_a_pagar\n",
    "            print(f\"El pago se ha realizado con éxito. El cambio asciende a: {cambio}€\")\n",
    "        \n",
    "\n",
    "        except:\n",
    "            print(f\"Has intriducido un número erróneo. Por favor, ingrese un número válido\")\n",
    "\n",
    "\n",
    "# 9 Agregar cliente:\n",
    "\n",
    "    def agregar_cliente(self, nombre, email):\n",
    "\n",
    "        # Verificar si el nombre ya existe en el registro de clientes.\n",
    "        if nombre in self.clientes:\n",
    "            print(f\"El cliente ya está registrado.\")\n",
    "            return\n",
    "        \n",
    "        # si es nuevo cliente\n",
    "        nuevo_cliente = {\"nombre\": nombre, \"email\": email, \"compras\": []}\n",
    "\n",
    "        # añadimos el cliente al diccionario\n",
    "        self.clientes.update({nombre : nuevo_cliente})\n",
    "\n",
    "\n",
    "# 10 Ver clientes:\n",
    "\n",
    "    def ver_clientes(self):\n",
    "        \n",
    "        # para recorrer los elementos de cada cliente \n",
    "        for cliente in self.clientes.values():\n",
    "            print(f\"Nombre: {cliente['nombre']}, correo eléctronico: {cliente['email']}\")\n",
    "\n",
    "\n",
    "# 11 Registrar compra:\n",
    "\n",
    "    def registrar_compra(self, nombre_cliente, carrito):\n",
    "\n",
    "        # verificamos si el cliente está registrado\n",
    "        if nombre_cliente not in self.clientes:      # verifica si existe la clave en el diccionario self.clientes\n",
    "            print(f\"No es posible registrar la compra. El cliente no se encuentra en la lista de clientes\")\n",
    "            return\n",
    "        \n",
    "\n",
    "        # busca en el diccionario de clientes el cliente que tiene el nombre nombre_cliente y guarda su información en la variable cliente.\n",
    "        cliente = self.clientes[nombre_cliente]\n",
    "\n",
    "        total_compra = 0\n",
    "\n",
    "        # recorrer el carrito y calcular el total de la compra\n",
    "        for elementos in carrito.values():\n",
    "\n",
    "            precio_producto = elementos[\"precio\"]\n",
    "            cantidad_producto = elementos[\"cantidad\"]\n",
    "\n",
    "            total_compra += precio_producto * cantidad_producto\n",
    "\n",
    "        # registrar la compra en el historial del cliente\n",
    "        cliente[\"compras\"].append({\"productos\": carrito, \"total\": total_compra})\n",
    "        \n",
    "        # Actualizar las ventas totales\n",
    "        self.ventas_totales += total_compra\n",
    "\n",
    "        # mensaje de confirmación\n",
    "        print(f\"{nombre_cliente} ha realizado una compra por valor de {total_compra}€.\")\n",
    "\n",
    "        print(f\"Las ventas totales de la tienda son: {self.ventas_totales}€\")\n",
    "\n",
    "\n",
    "# 12 Ver compras clientes:\n",
    "\n",
    "    def ver_compras_cliente(self, nombre_cliente):\n",
    "\n",
    "        # busca en el diccionario de clientes el cliente que tiene el nombre nombre_cliente y guarda su información en la variable cliente.\n",
    "        cliente = self.clientes[nombre_cliente]\n",
    "\n",
    "        print(cliente[\"compras\"])\n",
    "\n",
    "\n",
    "# 13 Calcular ventas totales:\n",
    "\n",
    "    def calcular_ventas_totales(self): \n",
    "\n",
    "        total_ventas = 0\n",
    "\n",
    "        # recorremos los elemento de cada cliente\n",
    "        for cliente in self.clientes.values():\n",
    "\n",
    "            # Obtenemos las compras del cliente, que son una lista de diccionarios\n",
    "            compras = cliente.get(\"compras\", [])  \n",
    "\n",
    "            # recorremos las compras\n",
    "            for compra in compras:\n",
    "\n",
    "                # Extraemos el total de cada compra y lo sumamos al total general\n",
    "                total_cliente = compra.get(\"total\", 0)\n",
    "                total_ventas += total_cliente\n",
    "\n",
    "        print(f\"Ventas totales de la tienda: {total_ventas}\")\n",
    "\n",
    "   "
   ]
  },
  {
   "cell_type": "code",
   "execution_count": 4,
   "id": "c0ae722a",
   "metadata": {},
   "outputs": [
    {
     "name": "stdout",
     "output_type": "stream",
     "text": [
      "Producto: patin, Precio: 95, Cantidad: 50\n",
      "Producto: bota, Precio: 105, Cantidad: 60\n",
      "Producto: stick, Precio: 75, Cantidad: 240\n",
      "Producto: bola, Precio: 14, Cantidad: 190\n"
     ]
    }
   ],
   "source": [
    "# 1 Agregar producto\n",
    "\n",
    "tienda = TiendaOnline()\n",
    "\n",
    "tienda.agregar_producto(\"patin\", 95, 50)\n",
    "tienda.agregar_producto(\"bota\", 105, 60)\n",
    "tienda.agregar_producto(\"stick\", 75, 120)\n",
    "tienda.agregar_producto(\"bola\", 14, 190)\n",
    "tienda.agregar_producto(\"stick\", 20, 120)\n",
    "\n",
    "for producto in tienda.inventario:\n",
    "    print(f\"Producto: {producto['nombre']}, Precio: {producto['precio']}, Cantidad: {producto['cantidad']}\")"
   ]
  },
  {
   "cell_type": "code",
   "execution_count": 5,
   "id": "3cf0f054",
   "metadata": {},
   "outputs": [
    {
     "name": "stdout",
     "output_type": "stream",
     "text": [
      "Nombre: patin, Precio: 95, Cantidad: 50\n",
      "Nombre: bota, Precio: 105, Cantidad: 60\n",
      "Nombre: stick, Precio: 75, Cantidad: 240\n",
      "Nombre: bola, Precio: 14, Cantidad: 190\n"
     ]
    }
   ],
   "source": [
    "# 2 Solicitamos ver el inventario\n",
    "\n",
    "tienda.ver_inventario()"
   ]
  },
  {
   "cell_type": "code",
   "execution_count": 6,
   "id": "8a9519d2",
   "metadata": {},
   "outputs": [
    {
     "name": "stdout",
     "output_type": "stream",
     "text": [
      "Nombre: bola, Precio: 14, Cantidad: 190\n"
     ]
    }
   ],
   "source": [
    "# 3 Buscamos si disponemos el producto \"bola\"\n",
    "\n",
    "tienda.buscar_producto(\"bola\")"
   ]
  },
  {
   "cell_type": "code",
   "execution_count": 7,
   "id": "e9a0bbaf",
   "metadata": {},
   "outputs": [
    {
     "name": "stdout",
     "output_type": "stream",
     "text": [
      "Nombre: patin, Precio: 95, Cantidad: 75\n",
      "Nombre: bota, Precio: 105, Cantidad: 60\n",
      "Nombre: stick, Precio: 75, Cantidad: 240\n",
      "Nombre: bola, Precio: 14, Cantidad: 190\n"
     ]
    }
   ],
   "source": [
    "# 4 Actualizar stock\n",
    "\n",
    "tienda.actualizar_stock(\"patin\", 25)\n",
    "\n",
    "tienda.ver_inventario()"
   ]
  },
  {
   "cell_type": "code",
   "execution_count": 8,
   "id": "bd0088ae",
   "metadata": {},
   "outputs": [
    {
     "name": "stdout",
     "output_type": "stream",
     "text": [
      "Nombre: patin, Precio: 95, Cantidad: 75\n",
      "Nombre: stick, Precio: 75, Cantidad: 240\n",
      "Nombre: bola, Precio: 14, Cantidad: 190\n"
     ]
    }
   ],
   "source": [
    "# 5 Eliminar un producto\n",
    "\n",
    "tienda.eliminar_producto(\"bota\")\n",
    "\n",
    "tienda.ver_inventario()\n"
   ]
  },
  {
   "cell_type": "code",
   "execution_count": 9,
   "id": "2711e087",
   "metadata": {},
   "outputs": [
    {
     "name": "stdout",
     "output_type": "stream",
     "text": [
      "El valor total del inventario es 27785\n"
     ]
    }
   ],
   "source": [
    "# 6 Calcular valor inventario\n",
    "\n",
    "tienda.calcular_valor_inventario()"
   ]
  },
  {
   "cell_type": "code",
   "execution_count": 8,
   "id": "2e318832",
   "metadata": {},
   "outputs": [
    {
     "name": "stdout",
     "output_type": "stream",
     "text": [
      "Nombre: patin, Precio: 95, Cantidad: 75\n",
      "Nombre: stick, Precio: 75, Cantidad: 240\n",
      "Nombre: bola, Precio: 14, Cantidad: 190\n",
      "\n",
      "No hay suficiente stock de patin. Solo quedan 75 unidades.\n",
      "Has añadido: stick. Cantidad: 5\n",
      "Has añadido: stick. Cantidad: 5\n",
      "Has añadido: bola. Cantidad: 20\n",
      "\n",
      "Compra finalizada. El coste total de su compra es 1780\n",
      "La compra realizada ha sido: {'stick': 10, 'bola': 20}\n"
     ]
    }
   ],
   "source": [
    "# 7 Realizar compra\n",
    "\n",
    "tienda.realizar_compra()"
   ]
  },
  {
   "cell_type": "code",
   "execution_count": 10,
   "id": "d7744477",
   "metadata": {},
   "outputs": [
    {
     "name": "stdout",
     "output_type": "stream",
     "text": [
      "El pago se ha realizado con éxito. El cambio asciende a: 300.0€\n"
     ]
    }
   ],
   "source": [
    "# 8 Procesar pago\n",
    "\n",
    "tienda.procesar_pago()"
   ]
  },
  {
   "cell_type": "code",
   "execution_count": 10,
   "id": "d9161fa8",
   "metadata": {},
   "outputs": [
    {
     "name": "stdout",
     "output_type": "stream",
     "text": [
      "{'nombre': 'Marta', 'email': 'marta820724@gmail.com', 'compras': []}\n",
      "{'nombre': 'Patricia', 'email': 'Ilvico37@gmail.com', 'compras': []}\n"
     ]
    }
   ],
   "source": [
    "# 9 Agregar cliente\n",
    "\n",
    "tienda.agregar_cliente(\"Marta\", \"marta820724@gmail.com\") \n",
    "tienda.agregar_cliente(\"Patricia\", \"Ilvico37@gmail.com\")\n",
    "\n",
    "# para imprimir cada cliente en una línea\n",
    "for cliente in tienda.clientes.values():\n",
    "    print(cliente)"
   ]
  },
  {
   "cell_type": "code",
   "execution_count": 11,
   "id": "ad8b25f7",
   "metadata": {},
   "outputs": [
    {
     "name": "stdout",
     "output_type": "stream",
     "text": [
      "El cliente ya está registrado.\n"
     ]
    }
   ],
   "source": [
    "tienda.agregar_cliente(\"Marta\", \"marta820724@gmail.com\")"
   ]
  },
  {
   "cell_type": "code",
   "execution_count": 12,
   "id": "6c83e4e9",
   "metadata": {},
   "outputs": [
    {
     "name": "stdout",
     "output_type": "stream",
     "text": [
      "Nombre: Marta, correo eléctronico: marta820724@gmail.com\n",
      "Nombre: Patricia, correo eléctronico: Ilvico37@gmail.com\n"
     ]
    }
   ],
   "source": [
    "# 10 Ver clientes\n",
    "\n",
    "tienda.ver_clientes()"
   ]
  },
  {
   "cell_type": "code",
   "execution_count": 13,
   "id": "769361ce",
   "metadata": {},
   "outputs": [
    {
     "name": "stdout",
     "output_type": "stream",
     "text": [
      "No es posible registrar la compra. El cliente no se encuentra en la lista de clientes\n"
     ]
    }
   ],
   "source": [
    "# 11 Registrar compra\n",
    "\n",
    "carrito_cliente1 = {\"patin\": {\"precio\": 95, \"cantidad\": 5}, \n",
    "                    \"bola\": {\"precio\": 14, \"cantidad\": 325}}\n",
    "\n",
    "tienda.registrar_compra(\"Marina\", carrito_cliente1)"
   ]
  },
  {
   "cell_type": "code",
   "execution_count": 14,
   "id": "b08761f9",
   "metadata": {},
   "outputs": [
    {
     "name": "stdout",
     "output_type": "stream",
     "text": [
      "Marta ha realizado una compra por valor de 137€.\n",
      "Las ventas totales de la tienda son: 137.0€\n"
     ]
    }
   ],
   "source": [
    "carrito_cliente2 = {\"patin\": {\"precio\": 95, \"cantidad\": 1}, \n",
    "                    \"bola\": {\"precio\": 14, \"cantidad\": 3}}\n",
    "\n",
    "tienda.registrar_compra(\"Marta\", carrito_cliente2)"
   ]
  },
  {
   "cell_type": "code",
   "execution_count": 15,
   "id": "3542d256",
   "metadata": {},
   "outputs": [
    {
     "name": "stdout",
     "output_type": "stream",
     "text": [
      "Patricia ha realizado una compra por valor de 1100€.\n",
      "Las ventas totales de la tienda son: 1237.0€\n"
     ]
    }
   ],
   "source": [
    "carrito_cliente3 = {\"stick\": {\"precio\": 75, \"cantidad\": 10}, \n",
    "                    \"bola\": {\"precio\": 14, \"cantidad\": 25}}\n",
    "\n",
    "tienda.registrar_compra(\"Patricia\", carrito_cliente3)"
   ]
  },
  {
   "cell_type": "code",
   "execution_count": 17,
   "id": "e9219dbc",
   "metadata": {},
   "outputs": [
    {
     "name": "stdout",
     "output_type": "stream",
     "text": [
      "[{'productos': {'stick': {'precio': 75, 'cantidad': 10}, 'bola': {'precio': 14, 'cantidad': 25}}, 'total': 1100}]\n"
     ]
    }
   ],
   "source": [
    "# 12 Ver compras clientes\n",
    "\n",
    "tienda.ver_compras_cliente(\"Patricia\")"
   ]
  },
  {
   "cell_type": "code",
   "execution_count": 18,
   "id": "147cc23b",
   "metadata": {},
   "outputs": [
    {
     "data": {
      "text/plain": [
       "{'Marta': {'nombre': 'Marta',\n",
       "  'email': 'marta820724@gmail.com',\n",
       "  'compras': [{'productos': {'patin': {'precio': 95, 'cantidad': 1},\n",
       "     'bola': {'precio': 14, 'cantidad': 3}},\n",
       "    'total': 137}]},\n",
       " 'Patricia': {'nombre': 'Patricia',\n",
       "  'email': 'Ilvico37@gmail.com',\n",
       "  'compras': [{'productos': {'stick': {'precio': 75, 'cantidad': 10},\n",
       "     'bola': {'precio': 14, 'cantidad': 25}},\n",
       "    'total': 1100}]}}"
      ]
     },
     "execution_count": 18,
     "metadata": {},
     "output_type": "execute_result"
    }
   ],
   "source": [
    "tienda.clientes"
   ]
  },
  {
   "cell_type": "code",
   "execution_count": 19,
   "id": "2b2e04f8",
   "metadata": {},
   "outputs": [
    {
     "name": "stdout",
     "output_type": "stream",
     "text": [
      "Ventas totales de la tienda: 1237\n"
     ]
    }
   ],
   "source": [
    "# 13 Calcular ventas totales\n",
    "\n",
    "tienda.calcular_ventas_totales()"
   ]
  }
 ],
 "metadata": {
  "kernelspec": {
   "display_name": "base",
   "language": "python",
   "name": "python3"
  },
  "language_info": {
   "codemirror_mode": {
    "name": "ipython",
    "version": 3
   },
   "file_extension": ".py",
   "mimetype": "text/x-python",
   "name": "python",
   "nbconvert_exporter": "python",
   "pygments_lexer": "ipython3",
   "version": "3.12.7"
  }
 },
 "nbformat": 4,
 "nbformat_minor": 5
}
